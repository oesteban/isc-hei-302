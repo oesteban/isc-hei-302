{
 "cells": [
  {
   "cell_type": "markdown",
   "id": "0ce025bb",
   "metadata": {},
   "source": [
    "# Manually pipelining tasks: Neuroimaging example\n",
    "\n",
    "## Summary\n",
    "\n",
    "In this *Notebook* you'll be able to execute two subsequent operations on anatomical T<sub>1</sub>-weighted MRI images of adult human heads.\n",
    "\n",
    "The first typical operation is *brain extraction*, which involves identifying brain tissue and cerebrospinal fluid (CSF) in the image, and discard non-brain tissue (e.g. skull, neck, skin and fat, etc.)\n",
    "\n",
    "Only once the brain has been *extracted*, we can use machine learning to identify three major types of tissue: gray matter (GM), white matter and CSF.\n",
    "\n",
    "## Setting up\n",
    "\n",
    "First, we import `Path` from *Python*'s standard library, and the `NiiVue` class from the *ipyniivue* library for visualization of 3D brain images.\n",
    "\n",
    "Second, we define some paths (`DATA_PATH` and `OUTPUTS_PATH`) where we will be finding and storing data (respectively)."
   ]
  },
  {
   "cell_type": "code",
   "execution_count": null,
   "id": "a6b0a43a-a054-465f-b785-4fc4428e848f",
   "metadata": {},
   "outputs": [],
   "source": [
    "from pathlib import Path\n",
    "from ipyniivue import NiiVue"
   ]
  },
  {
   "cell_type": "code",
   "execution_count": null,
   "id": "e41eb3f9-23f7-43c3-a637-b785f3bcc98a",
   "metadata": {},
   "outputs": [],
   "source": [
    "DATA_PATH = Path.home() / \"data\" / \"ds000005\"\n",
    "OUTPUTS_PATH = Path.home() / \"outputs\""
   ]
  },
  {
   "cell_type": "markdown",
   "id": "f00e6278",
   "metadata": {},
   "source": [
    "## Visualizing a T1w image of the human brain\n",
    "\n",
    "The interactive viewer allows for navigation of three plane cuts through the volume, as well as a 3D rendering."
   ]
  },
  {
   "cell_type": "code",
   "execution_count": null,
   "id": "8006de86-8f75-46cf-a783-a66022e6971f",
   "metadata": {},
   "outputs": [],
   "source": [
    "nv = NiiVue()\n",
    "nv.load_volumes([{\"path\": DATA_PATH / \"sub-01/anat/sub-01_T1w.nii.gz\"}])\n",
    "nv"
   ]
  },
  {
   "cell_type": "markdown",
   "id": "d993185b",
   "metadata": {},
   "source": [
    "## Running a brain extraction program\n",
    "\n",
    "We will extract the brain using the `3dSkullStrip` executable of the [AFNI](https://afni.nimh.nih.gov/) open-source software library.\n",
    "\n",
    "We can execute bash commands from within the Jupyter Notebook (that is, execute code that *is not* Python code) by preceding command lines by the exclamation mark symbol `!`, so, in this case, we write `!3dSkulStrip` to tell this notebook that the cell contains code to execute on a terminal shell.\n",
    "\n",
    "As an extra exercise, create a new cell and execute the following command to read the help of `3dSkullStrip`:\n",
    "\n",
    "```Bash\n",
    "!3dSkullStrip -help\n",
    "```"
   ]
  },
  {
   "cell_type": "code",
   "execution_count": null,
   "id": "a6aad084-5d82-45a0-b3f5-cf30a45db2c2",
   "metadata": {},
   "outputs": [],
   "source": [
    "!3dSkullStrip -input $HOME/data/ds000005/sub-01/anat/sub-01_T1w.nii.gz -prefix $HOME/outputs/sub-01_desc-brain_T1w.nii.gz"
   ]
  },
  {
   "cell_type": "markdown",
   "id": "1d382d61",
   "metadata": {},
   "source": [
    "## Visualizing the output\n",
    "\n",
    "We can now look at the result of executing `3dSkullStrip` on a head image."
   ]
  },
  {
   "cell_type": "code",
   "execution_count": null,
   "id": "98db0bed-dc6b-485e-a4e9-67b8677e997b",
   "metadata": {},
   "outputs": [],
   "source": [
    "nv = NiiVue()\n",
    "nv.load_volumes([{\"path\": OUTPUTS_PATH / \"sub-01_desc-brain_T1w.nii.gz\"}])\n",
    "nv"
   ]
  },
  {
   "cell_type": "markdown",
   "id": "67b6af7c",
   "metadata": {},
   "source": [
    "## Identifying brain tissues\n",
    "\n",
    "We will use now another program within AFNI's distribution: `3dSeg`.\n",
    "\n",
    "By default, the program will try to identify GM, WM and CSF.\n",
    "The output will be written in a custom format of AFNI, so we add a third task in our pipeline to convert it into a more standard format (called NIfTI). This is achieved with the command `3dAFNItoNIFTI`."
   ]
  },
  {
   "cell_type": "code",
   "execution_count": null,
   "id": "e8d6a606-9ac0-47e5-ab91-ed0dd7918853",
   "metadata": {},
   "outputs": [],
   "source": [
    "!3dSeg -anat $HOME/outputs/sub-01_desc-brain_T1w.nii.gz -mask AUTO -prefix $HOME/outputs/segments"
   ]
  },
  {
   "cell_type": "code",
   "execution_count": null,
   "id": "4e21a7d9-321b-493a-b003-d0f5b6973f7a",
   "metadata": {},
   "outputs": [],
   "source": [
    "!3dAFNItoNIFTI -prefix $HOME/outputs/sub-01_seg-tissues_dseg.nii.gz $HOME/outputs/segments/Classes+orig"
   ]
  },
  {
   "cell_type": "markdown",
   "id": "8b3679ff",
   "metadata": {},
   "source": [
    "## Visualizing the separated brain tissues\n",
    "\n",
    "Now we can load the output after conversion and we can see how the segmentation performed."
   ]
  },
  {
   "cell_type": "code",
   "execution_count": null,
   "id": "a5edb46b-a6f0-4a0e-a84c-e0be651a6f3a",
   "metadata": {},
   "outputs": [],
   "source": [
    "nv = NiiVue()\n",
    "nv.load_volumes([{\"path\": OUTPUTS_PATH / \"sub-01_seg-tissues_dseg.nii.gz\", \"colormap\": \"nih\"}])\n",
    "nv"
   ]
  },
  {
   "cell_type": "code",
   "execution_count": null,
   "id": "fac7e3a1-648f-4f18-b4c3-4b18632eec89",
   "metadata": {},
   "outputs": [],
   "source": []
  }
 ],
 "metadata": {
  "kernelspec": {
   "display_name": "Python 3 (ipykernel)",
   "language": "python",
   "name": "python3"
  },
  "language_info": {
   "codemirror_mode": {
    "name": "ipython",
    "version": 3
   },
   "file_extension": ".py",
   "mimetype": "text/x-python",
   "name": "python",
   "nbconvert_exporter": "python",
   "pygments_lexer": "ipython3",
   "version": "3.11.8"
  }
 },
 "nbformat": 4,
 "nbformat_minor": 5
}
